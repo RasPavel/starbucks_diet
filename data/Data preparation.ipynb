{
 "cells": [
  {
   "cell_type": "code",
   "execution_count": 1,
   "metadata": {},
   "outputs": [],
   "source": [
    "import pandas as pd\n",
    "import numpy as np\n",
    "from itertools import chain"
   ]
  },
  {
   "cell_type": "code",
   "execution_count": 2,
   "metadata": {},
   "outputs": [],
   "source": [
    "drinks = pd.read_csv('starbucks-menu-nutrition-drinks.csv')\n",
    "food = pd.read_csv('starbucks-menu-nutrition-food.csv', encoding = \"utf-16\")\n",
    "expanded = pd.read_csv('starbucks_drinkMenu_expanded.csv')"
   ]
  },
  {
   "cell_type": "code",
   "execution_count": 6,
   "metadata": {},
   "outputs": [],
   "source": [
    "food['calories'] = food[' Calories'].astype(float)\n",
    "food['protein'] = food[' Protein (g)'].astype(float)\n",
    "food['fat'] = food[' Fat (g)'].astype(float)\n",
    "food['carbs'] = food[' Carb. (g)'].astype(float)\n",
    "\n",
    "food.rename(columns={'Unnamed: 0': 'item'}, inplace=True)\n",
    "\n",
    "menu_food = food[['item', 'calories', 'protein', 'fat', 'carbs']]"
   ]
  },
  {
   "cell_type": "code",
   "execution_count": 7,
   "metadata": {},
   "outputs": [],
   "source": [
    "drinks = drinks[drinks.Calories != '-'].reset_index(drop=True)\n",
    "\n",
    "drinks['calories'] = drinks.Calories.astype(float)\n",
    "drinks['protein'] = drinks.Protein.astype(float)\n",
    "drinks['fat'] = drinks['Fat (g)'].astype(float)\n",
    "drinks['carbs'] = drinks['Carb. (g)'].astype(float)\n",
    "\n",
    "drinks.rename(columns={'Unnamed: 0': 'item'}, inplace=True)\n",
    "\n",
    "menu_drinks = drinks[['item', 'calories', 'protein', 'fat', 'carbs']]"
   ]
  },
  {
   "cell_type": "code",
   "execution_count": 8,
   "metadata": {},
   "outputs": [],
   "source": [
    "menu_food.to_csv('menu_food.csv', index=False)\n",
    "menu_drinks.to_csv('menu_drinks.csv', index=False)"
   ]
  }
 ],
 "metadata": {
  "kernelspec": {
   "display_name": "Python 3",
   "language": "python",
   "name": "python3"
  },
  "language_info": {
   "codemirror_mode": {
    "name": "ipython",
    "version": 3
   },
   "file_extension": ".py",
   "mimetype": "text/x-python",
   "name": "python",
   "nbconvert_exporter": "python",
   "pygments_lexer": "ipython3",
   "version": "3.8.2"
  }
 },
 "nbformat": 4,
 "nbformat_minor": 4
}
